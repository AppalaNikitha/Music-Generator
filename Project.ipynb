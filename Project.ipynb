{
  "cells": [
    {
      "cell_type": "markdown",
      "metadata": {
        "id": "view-in-github",
        "colab_type": "text"
      },
      "source": [
        "<a href=\"https://colab.research.google.com/github/nikithanik783/Music-Generator/blob/main/Project.ipynb\" target=\"_parent\"><img src=\"https://colab.research.google.com/assets/colab-badge.svg\" alt=\"Open In Colab\"/></a>"
      ]
    },
    {
      "cell_type": "code",
      "source": [
        "import numpy as np\n",
        "import matplotlib.pyplot as plt\n",
        "from keras.models import Sequential\n",
        "from keras.layers import LSTM, Dense, Dropout\n",
        "from keras.optimizers import Adam\n",
        "from tensorflow.keras.preprocessing.sequence import pad_sequences\n",
        "from music21 import converter, instrument, note"
      ],
      "metadata": {
        "id": "2QISmpmX6Rah"
      },
      "execution_count": null,
      "outputs": []
    },
    {
      "cell_type": "code",
      "source": [
        "file_path = '/content/maestro-v3.0.0-midi (2).zip/2015/'\n",
        "\n",
        "def load_data(file_path):\n",
        "    music = converter.parse(file_path)\n",
        "\n",
        "    # Extract the notes\n",
        "    note_sequence = []\n",
        "    for note in music.flat.notes:\n",
        "        if isinstance(note, chord.Chord):\n",
        "            for pitch in note.pitches:\n",
        "                note_sequence.append(pitch.midi)\n",
        "        else:\n",
        "            note_sequence.append(note.pitch.midi)\n",
        "\n",
        "    return note_sequence\n",
        "\n"
      ],
      "metadata": {
        "id": "dGgrL3Ew-90i"
      },
      "execution_count": null,
      "outputs": []
    },
    {
      "cell_type": "code",
      "source": [
        "\n",
        "def save_data(note_sequence, file_path):\n",
        "    # Create a music21 stream\n",
        "    music_stream = music21.stream.Stream()\n",
        "\n",
        "    # Create a note object for each pitch\n",
        "    for pitch in note_sequence:\n",
        "        note = music21.note.Note(midi=pitch)\n",
        "        music_stream.append(note)\n",
        "\n",
        "    # Write the stream to a MIDI file\n",
        "    music_stream.write('midi', fp=file_path)"
      ],
      "metadata": {
        "id": "0xtVPFo1B-TN"
      },
      "execution_count": null,
      "outputs": []
    },
    {
      "cell_type": "code",
      "source": [
        "def preprocess_data(note_sequence, sequence_length):\n",
        "    # Create a list of input sequences and target notes\n",
        "    sequences = []\n",
        "    notes = []\n",
        "\n",
        "    # For each note in the sequence\n",
        "    for i in range(len(note_sequence) - sequence_length):\n",
        "        sequences.append(note_sequence[i:i + sequence_length])\n",
        "        notes.append(note_sequence[i + sequence_length])\n",
        "\n",
        "    # Pad the sequences to the maximum length\n",
        "    sequences = np.array(sequences)\n",
        "    notes = np.array(notes)\n",
        "\n",
        "    return sequences, notes"
      ],
      "metadata": {
        "id": "NBuA7MPf_91b"
      },
      "execution_count": null,
      "outputs": []
    },
    {
      "cell_type": "code",
      "source": [
        "def create_model(input_shape, num_notes):\n",
        "    model = Sequential()\n",
        "    model.add(LSTM(256, input_shape=input_shape, return_sequences=True))\n",
        "    model.add(Dropout(0.3))\n",
        "    model.add(LSTM(256, return_sequences=True))\n",
        "    model.add(Dropout(0.3))\n",
        "    model.add(LSTM(256))\n",
        "    model.add(Dropout(0.3))\n",
        "    model.add(Dense(num_notes, activation='softmax'))\n",
        "\n",
        "    # Compile the model\n",
        "    model.compile(optimizer=Adam(), loss='categorical_crossentropy')\n",
        "\n",
        "    return model"
      ],
      "metadata": {
        "id": "8WcfD_55ACAl"
      },
      "execution_count": null,
      "outputs": []
    },
    {
      "cell_type": "code",
      "source": [
        "def train_model(model, sequences, notes, epochs=200, batch_size=64):\n",
        "    # Create the training data\n",
        "    training_data = sequences[:-1]\n",
        "    target_notes = notes[:-1]\n",
        "\n",
        "    # Train the model\n",
        "    model.fit(training_data, target_notes, epochs=epochs, batch_size=batch_size)"
      ],
      "metadata": {
        "id": "-gVEvVorAFVN"
      },
      "execution_count": null,
      "outputs": []
    },
    {
      "cell_type": "code",
      "source": [
        "def generate_music(model, seed_sequence, sequence_length, num_notes):\n",
        "    generated_sequence = list(seed_sequence)\n",
        "\n",
        "    for _ in range(num_steps):\n",
        "        # Prepare the input sequence\n",
        "        input_sequence = np.array(seed_sequence[-sequence_length:]).reshape(1, -1)\n",
        "\n",
        "        # Predict the next note\n",
        "        predicted_note = model.predict(input_sequence, verbose=0)\n",
        "\n",
        "        # Sample the next note using the predicted probabilities\n",
        "        next_note = np.random.choice(num_notes, p=predicted_note[0])\n",
        "\n",
        "        # Append the new note to the generated sequence\n",
        "        generated_sequence.append(next_note)\n",
        "\n",
        "    return generated_sequence"
      ],
      "metadata": {
        "id": "k4h22A2VAIt_"
      },
      "execution_count": null,
      "outputs": []
    },
    {
      "cell_type": "code",
      "source": [
        "!pip install mido"
      ],
      "metadata": {
        "colab": {
          "base_uri": "https://localhost:8080/"
        },
        "id": "nb_PpGn0D5-5",
        "outputId": "7cabb1ce-431d-41cd-a9f0-4ba585318461"
      },
      "execution_count": null,
      "outputs": [
        {
          "output_type": "stream",
          "name": "stdout",
          "text": [
            "Collecting mido\n",
            "  Downloading mido-1.3.2-py3-none-any.whl (54 kB)\n",
            "\u001b[2K     \u001b[90m━━━━━━━━━━━━━━━━━━━━━━━━━━━━━━━━━━━━━━━━\u001b[0m \u001b[32m54.6/54.6 kB\u001b[0m \u001b[31m947.2 kB/s\u001b[0m eta \u001b[36m0:00:00\u001b[0m\n",
            "\u001b[?25hRequirement already satisfied: packaging~=23.1 in /usr/local/lib/python3.10/dist-packages (from mido) (23.2)\n",
            "Installing collected packages: mido\n",
            "Successfully installed mido-1.3.2\n"
          ]
        }
      ]
    },
    {
      "cell_type": "code",
      "source": [
        "!pip install Chord"
      ],
      "metadata": {
        "colab": {
          "base_uri": "https://localhost:8080/"
        },
        "id": "_I0VDn3_EYVj",
        "outputId": "803a8f0b-a448-45bb-b0f0-30d028b7a3e0"
      },
      "execution_count": null,
      "outputs": [
        {
          "output_type": "stream",
          "name": "stdout",
          "text": [
            "Collecting Chord\n",
            "  Downloading chord-6.0.1-py3-none-any.whl (7.0 kB)\n",
            "Installing collected packages: Chord\n",
            "Successfully installed Chord-6.0.1\n"
          ]
        }
      ]
    },
    {
      "cell_type": "code",
      "source": [
        "import mido\n",
        "import numpy as np\n",
        "\n",
        "class Chord:\n",
        "    def __init__(self, notes, name, duration):\n",
        "        self.notes = notes\n",
        "        self.name = name\n",
        "        self.duration = duration\n",
        "\n",
        "def preprocess_data(note_sequence, sequence_length):\n",
        "    sequences = np.zeros((len(note_sequence) // sequence_length, sequence_length, 2))\n",
        "    notes = np.zeros((len(note_sequence) // sequence_length, sequence_length, 2))\n",
        "\n",
        "    for i in range(0, len(note_sequence), sequence_length):\n",
        "        sequence_end = i + sequence_length\n",
        "\n",
        "        if sequence_end > len(note_sequence):\n",
        "            sequence_end = len(note_sequence)\n",
        "\n",
        "        sequences[i // sequence_length, :sequence_end - i] = [[note.time, note.data] for note in note_sequence[i:sequence_end] if isinstance(note, mido.Message) and note.type == 'note_on']\n",
        "        notes[i // sequence_length, :sequence_end - i] = [[note.time, note.data] for note in note_sequence[i:sequence_end] if isinstance(note, mido.Message) and note.type == 'note_on']\n",
        "\n",
        "    return sequences, notes"
      ],
      "metadata": {
        "id": "8Fw_17iDI7E7"
      },
      "execution_count": null,
      "outputs": []
    },
    {
      "cell_type": "code",
      "source": [
        "def generate_chords(note_sequence):\n",
        "    chords = []\n",
        "    current_chord = None\n",
        "\n",
        "    for note in note_sequence:\n",
        "        if isinstance(note, mido.Message) and note.type == 'note_on':\n",
        "            if current_chord is None:\n",
        "                current_chord = Chord([note.note], \"major\", note.time)\n",
        "            elif current_chord.duration == note.time:\n",
        "                current_chord.notes.append(note.note)\n",
        "            else:\n",
        "                chords.append(current_chord)\n",
        "                current_chord = Chord([note.note], \"major\", note.time)\n",
        "        elif isinstance(note, mido.Message) and note.type == 'note_off':\n",
        "            if current_chord is not None:\n",
        "                current_chord.duration = note.time\n",
        "                chords.append(current_chord)\n",
        "                current_chord = None\n",
        "\n",
        "    return chords"
      ],
      "metadata": {
        "id": "4yBQcdRjLwog"
      },
      "execution_count": null,
      "outputs": []
    },
    {
      "cell_type": "code",
      "source": [
        "def pitch_to_pc(pitch):\n",
        "    octave = pitch // 12 - 1\n",
        "    note = pitch % 12\n",
        "    return note + 12 * octave"
      ],
      "metadata": {
        "id": "33yZw1tROvbG"
      },
      "execution_count": null,
      "outputs": []
    },
    {
      "cell_type": "code",
      "source": [
        "import mido\n",
        "\n",
        "def generate_music_file(chords, filename):\n",
        "    mid = mido.MidiFile()\n",
        "    track = mido.MidiTrack()\n",
        "    mid.tracks.append(track)\n",
        "\n",
        "    for chord in chords:\n",
        "        for note in chord.notes:\n",
        "            track.append(mido.Message('note_on', note=pc_to_pitch(note), velocity=127, time=chord.start_time))\n",
        "            track.append(mido.Message('note_off', note=pc_to_pitch(note), velocity=127, time=chord.end_time))\n",
        "\n",
        "    mid.save(filename)"
      ],
      "metadata": {
        "id": "4Ohz3vvTNy0M"
      },
      "execution_count": null,
      "outputs": []
    },
    {
      "cell_type": "code",
      "source": [
        "!pip install pretty_midi"
      ],
      "metadata": {
        "colab": {
          "base_uri": "https://localhost:8080/"
        },
        "id": "CSyCZMWCQPtu",
        "outputId": "49a51668-9981-4385-a4a0-5390381707a6"
      },
      "execution_count": null,
      "outputs": [
        {
          "output_type": "stream",
          "name": "stdout",
          "text": [
            "Requirement already satisfied: pretty_midi in /usr/local/lib/python3.10/dist-packages (0.2.10)\n",
            "Requirement already satisfied: numpy>=1.7.0 in /usr/local/lib/python3.10/dist-packages (from pretty_midi) (1.23.5)\n",
            "Requirement already satisfied: mido>=1.1.16 in /usr/local/lib/python3.10/dist-packages (from pretty_midi) (1.3.2)\n",
            "Requirement already satisfied: six in /usr/local/lib/python3.10/dist-packages (from pretty_midi) (1.16.0)\n",
            "Requirement already satisfied: packaging~=23.1 in /usr/local/lib/python3.10/dist-packages (from mido>=1.1.16->pretty_midi) (23.2)\n"
          ]
        }
      ]
    },
    {
      "cell_type": "code",
      "source": [
        "!pip install Note"
      ],
      "metadata": {
        "colab": {
          "base_uri": "https://localhost:8080/"
        },
        "id": "ATLEMWBFQ4Hs",
        "outputId": "f4a1f639-d810-4e69-cf7b-a0409e16b6f9"
      },
      "execution_count": null,
      "outputs": [
        {
          "output_type": "stream",
          "name": "stdout",
          "text": [
            "Requirement already satisfied: Note in /usr/local/lib/python3.10/dist-packages (0.5.2)\n",
            "Requirement already satisfied: pymongo in /usr/local/lib/python3.10/dist-packages (from Note) (4.6.1)\n",
            "Requirement already satisfied: tornado in /usr/local/lib/python3.10/dist-packages (from Note) (6.3.2)\n",
            "Requirement already satisfied: pyzmq>=14.3.1 in /usr/local/lib/python3.10/dist-packages (from Note) (23.2.1)\n",
            "Requirement already satisfied: markdown in /usr/local/lib/python3.10/dist-packages (from Note) (3.5.1)\n",
            "Requirement already satisfied: flask in /usr/local/lib/python3.10/dist-packages (from Note) (2.2.5)\n",
            "Requirement already satisfied: mock in /usr/local/lib/python3.10/dist-packages (from Note) (5.1.0)\n",
            "Requirement already satisfied: dateparser in /usr/local/lib/python3.10/dist-packages (from Note) (1.2.0)\n",
            "Requirement already satisfied: click in /usr/local/lib/python3.10/dist-packages (from Note) (8.1.7)\n",
            "Requirement already satisfied: python-daemon in /usr/local/lib/python3.10/dist-packages (from Note) (3.0.1)\n",
            "Requirement already satisfied: lockfile in /usr/local/lib/python3.10/dist-packages (from Note) (0.12.2)\n",
            "Requirement already satisfied: docutils in /usr/local/lib/python3.10/dist-packages (from Note) (0.18.1)\n",
            "Requirement already satisfied: python-dateutil in /usr/local/lib/python3.10/dist-packages (from dateparser->Note) (2.8.2)\n",
            "Requirement already satisfied: pytz in /usr/local/lib/python3.10/dist-packages (from dateparser->Note) (2023.3.post1)\n",
            "Requirement already satisfied: regex!=2019.02.19,!=2021.8.27 in /usr/local/lib/python3.10/dist-packages (from dateparser->Note) (2023.6.3)\n",
            "Requirement already satisfied: tzlocal in /usr/local/lib/python3.10/dist-packages (from dateparser->Note) (5.2)\n",
            "Requirement already satisfied: Werkzeug>=2.2.2 in /usr/local/lib/python3.10/dist-packages (from flask->Note) (3.0.1)\n",
            "Requirement already satisfied: Jinja2>=3.0 in /usr/local/lib/python3.10/dist-packages (from flask->Note) (3.1.2)\n",
            "Requirement already satisfied: itsdangerous>=2.0 in /usr/local/lib/python3.10/dist-packages (from flask->Note) (2.1.2)\n",
            "Requirement already satisfied: dnspython<3.0.0,>=1.16.0 in /usr/local/lib/python3.10/dist-packages (from pymongo->Note) (2.4.2)\n",
            "Requirement already satisfied: setuptools>=62.4.0 in /usr/local/lib/python3.10/dist-packages (from python-daemon->Note) (67.7.2)\n",
            "Requirement already satisfied: MarkupSafe>=2.0 in /usr/local/lib/python3.10/dist-packages (from Jinja2>=3.0->flask->Note) (2.1.3)\n",
            "Requirement already satisfied: six>=1.5 in /usr/local/lib/python3.10/dist-packages (from python-dateutil->dateparser->Note) (1.16.0)\n"
          ]
        }
      ]
    },
    {
      "cell_type": "code",
      "source": [
        "pip install --upgrade pretty_midi"
      ],
      "metadata": {
        "colab": {
          "base_uri": "https://localhost:8080/"
        },
        "id": "iAzvhALITkqY",
        "outputId": "b1d0ff7c-63f4-4bd8-e866-7abdc1ca7217"
      },
      "execution_count": null,
      "outputs": [
        {
          "output_type": "stream",
          "name": "stdout",
          "text": [
            "Requirement already satisfied: pretty_midi in /usr/local/lib/python3.10/dist-packages (0.2.10)\n",
            "Requirement already satisfied: numpy>=1.7.0 in /usr/local/lib/python3.10/dist-packages (from pretty_midi) (1.23.5)\n",
            "Requirement already satisfied: mido>=1.1.16 in /usr/local/lib/python3.10/dist-packages (from pretty_midi) (1.3.2)\n",
            "Requirement already satisfied: six in /usr/local/lib/python3.10/dist-packages (from pretty_midi) (1.16.0)\n",
            "Requirement already satisfied: packaging~=23.1 in /usr/local/lib/python3.10/dist-packages (from mido>=1.1.16->pretty_midi) (23.2)\n"
          ]
        }
      ]
    },
    {
      "cell_type": "code",
      "source": [
        "def notes_to_chord(notes, duration):\n",
        "  \"\"\"Converts a list of notes and durations to a PrettyMIDI Chord object.\n",
        "\n",
        "  Args:\n",
        "    notes: A list of notes in the range [0, 127].\n",
        "    duration: The duration of the chord in beats.\n",
        "\n",
        "  Returns:\n",
        "    A PrettyMIDI Chord object.\n",
        "  \"\"\"\n",
        "\n",
        "  chord = pm.Chord(notes, duration)\n",
        "  return chord"
      ],
      "metadata": {
        "id": "wuOIWLvhRxlc"
      },
      "execution_count": null,
      "outputs": []
    },
    {
      "cell_type": "code",
      "source": [
        "note_to_midi = {\n",
        "    'C0': 12, 'D0': 14, 'E0': 16, 'F0': 17, 'G0': 19, 'A0': 21, 'B0': 23,\n",
        "    'C1': 24, 'D1': 26, 'E1': 28, 'F1': 29, 'G1': 31, 'A1': 33, 'B1': 35,\n",
        "    'C2': 36, 'D2': 38, 'E2': 40, 'F2': 41, 'G2': 43, 'A2': 45, 'B2': 47,\n",
        "    'C3': 48, 'D3': 50, 'E3': 52, 'F3': 53, 'G3': 55, 'A3': 57, 'B3': 59,\n",
        "    'C4': 60, 'D4': 62, 'E4': 64, 'F4': 65, 'G4': 67, 'A4': 69, 'B4': 71,\n",
        "    'C5': 72, 'D5': 74, 'E5': 76, 'F5': 77, 'G5': 79, 'A5': 81, 'B5': 83,\n",
        "    'C6': 84, 'D6': 86, 'E6': 88, 'F6': 89, 'G6': 91, 'A6': 93, 'B6': 95,\n",
        "    'C7': 96, 'D7': 98, 'E7': 100, 'F7': 101, 'G7': 103, 'A7': 105, 'B7': 107,\n",
        "    'C8': 108, 'D8': 110, 'E8': 112, 'F8': 113, 'G8': 115, 'A8': 117, 'B8': 119,\n",
        "    'C9': 120, 'D9': 122, 'E9': 124, 'F9': 125, 'G9': 127\n",
        "}\n",
        "\n",
        "def note_name_to_midi(note):\n",
        "    return note_to_midi[note]\n",
        "\n",
        "def create_chord(root, chord_type):\n",
        "    chord = []\n",
        "    if chord_type == 'maj':\n",
        "        chord = [root, root + 'm', root + 'M']\n",
        "    elif chord_type == 'min':\n",
        "        chord = [root, root + 'm', root + 'M']\n",
        "    elif chord_type == 'dim':\n",
        "        chord = [root, root + 'dim', root + 'M']\n",
        "    elif chord_type == 'aug':\n",
        "        chord = [root, root + 'm', root + 'M']\n",
        "    return chord\n",
        "\n",
        "def generate_notes(scale, chord_types):\n",
        "    notes = []\n",
        "    for chord_type in chord_types:\n",
        "        for note in scale:\n",
        "            notes.extend(create_chord(note, chord_type))\n",
        "    return notes\n",
        "\n",
        "scale = ['C4', 'D4', 'E4', 'F4', 'G4', 'A4', 'B4']\n",
        "chord_types = ['maj', 'min', 'dim', 'aug']\n",
        "notes = generate_notes(scale, chord_types)\n",
        "\n",
        "print(13.0)\n",
        "print(14.0)\n",
        "print(15.0)\n",
        "print(16.0)"
      ],
      "metadata": {
        "colab": {
          "base_uri": "https://localhost:8080/"
        },
        "id": "cRGXK-nlX1Yl",
        "outputId": "70ca415d-439e-4078-8432-6bcd574e5897"
      },
      "execution_count": null,
      "outputs": [
        {
          "output_type": "stream",
          "name": "stdout",
          "text": [
            "13.0\n",
            "14.0\n",
            "15.0\n",
            "16.0\n"
          ]
        }
      ]
    },
    {
      "cell_type": "code",
      "source": [
        "import mido\n",
        "\n",
        "# Define the notes of the chord\n",
        "notes = ['C0', 'E1', 'G2','A3','B4']\n",
        "\n",
        "# Create a chord from the notes\n",
        "chord = mido.MidiFile()\n",
        "chord.ticks_per_beat = 480\n",
        "track = mido.MidiTrack()\n",
        "chord.tracks.append(track)\n",
        "\n",
        "for note in notes:\n",
        "    track.append(mido.Message('note_on', note=note_name_to_midi(note), velocity=100, time=0))\n",
        "    track.append(mido.Message('note_off', note=note_name_to_midi(note), velocity=100, time=480))\n",
        "\n",
        "# Save the chord to a MIDI file\n",
        "chord.save('chord.mid')"
      ],
      "metadata": {
        "id": "FceD2glPYXF2"
      },
      "execution_count": null,
      "outputs": []
    },
    {
      "cell_type": "code",
      "source": [],
      "metadata": {
        "id": "1VzXuLxVYjzk"
      },
      "execution_count": null,
      "outputs": []
    }
  ],
  "metadata": {
    "accelerator": "TPU",
    "colab": {
      "provenance": [],
      "mount_file_id": "1Qv4SugMTUpyokEpepAWH8K7rRj651w7s",
      "authorship_tag": "ABX9TyO6kJwqLPSB8A+5P3nmpZnD",
      "include_colab_link": true
    },
    "kernelspec": {
      "display_name": "Python 3",
      "name": "python3"
    },
    "language_info": {
      "name": "python"
    }
  },
  "nbformat": 4,
  "nbformat_minor": 0
}